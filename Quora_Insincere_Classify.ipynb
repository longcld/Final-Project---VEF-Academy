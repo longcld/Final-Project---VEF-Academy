{
  "nbformat": 4,
  "nbformat_minor": 0,
  "metadata": {
    "colab": {
      "name": "Quora_Insincere_Classify.ipynb",
      "version": "0.3.2",
      "provenance": [],
      "collapsed_sections": [
        "VZYCmo4il599",
        "2HTln2ZqpnAC"
      ]
    },
    "kernelspec": {
      "name": "python3",
      "display_name": "Python 3"
    },
    "accelerator": "GPU"
  },
  "cells": [
    {
      "cell_type": "markdown",
      "metadata": {
        "id": "zBtg2Fs4mAAk",
        "colab_type": "text"
      },
      "source": [
        "#Final Project"
      ]
    },
    {
      "cell_type": "markdown",
      "metadata": {
        "id": "mp6IeGPolytr",
        "colab_type": "text"
      },
      "source": [
        "###Import package"
      ]
    },
    {
      "cell_type": "code",
      "metadata": {
        "id": "xTv3hX9tk6Sk",
        "colab_type": "code",
        "outputId": "18e32e89-aaa6-4064-d405-8ac2c7ca9458",
        "colab": {
          "base_uri": "https://localhost:8080/",
          "height": 51
        }
      },
      "source": [
        "import math\n",
        "import pandas as pd\n",
        "import seaborn as sns\n",
        "import matplotlib.pyplot as plt\n",
        "from tqdm import tqdm\n",
        "import numpy as np\n",
        "import nltk\n",
        "import string\n",
        "from wordcloud import WordCloud\n",
        "from nltk.corpus import stopwords\n",
        "nltk.download('stopwords')\n",
        "\n",
        "from sklearn.feature_extraction.text import TfidfVectorizer\n",
        "from sklearn.linear_model import LogisticRegressionCV\n",
        "from sklearn.model_selection import train_test_split\n",
        "from sklearn import metrics\n",
        "\n",
        "import tensorflow as tf\n",
        "from tensorflow.keras.preprocessing.text import Tokenizer\n",
        "from tensorflow.keras.preprocessing.sequence import pad_sequences\n",
        "from tensorflow.keras.preprocessing.text import Tokenizer\n",
        "from tensorflow.keras.preprocessing.sequence import pad_sequences\n",
        "from tensorflow.keras.layers import Embedding, Layer\n",
        "from tensorflow.keras.initializers import Constant\n",
        "from tensorflow.keras import initializers, regularizers, constraints, optimizers, layers\n",
        "from tensorflow.keras import backend as K\n",
        "from tensorflow.keras.models import Model\n",
        "from tensorflow.keras.layers import Dense, LSTM, CuDNNLSTM, Bidirectional, Input, Flatten, Dropout\n",
        "from tensorflow.keras.callbacks import ModelCheckpoint, EarlyStopping"
      ],
      "execution_count": 1,
      "outputs": [
        {
          "output_type": "stream",
          "text": [
            "[nltk_data] Downloading package stopwords to /root/nltk_data...\n",
            "[nltk_data]   Unzipping corpora/stopwords.zip.\n"
          ],
          "name": "stdout"
        }
      ]
    },
    {
      "cell_type": "markdown",
      "metadata": {
        "id": "VZYCmo4il599",
        "colab_type": "text"
      },
      "source": [
        "###Load data"
      ]
    },
    {
      "cell_type": "code",
      "metadata": {
        "id": "OScnJBXFk6WP",
        "colab_type": "code",
        "outputId": "ec11b131-65cf-4d75-c44d-aa7851b7e205",
        "colab": {
          "base_uri": "https://localhost:8080/",
          "height": 1000
        }
      },
      "source": [
        "!wget http://nlp.stanford.edu/data/glove.6B.zip\n",
        "!wget https://dl.fbaipublicfiles.com/fasttext/vectors-english/wiki-news-300d-1M.vec.zip\n",
        "!unzip glove*.zip\n",
        "!unzip wiki-news-300d-1M.vec.zip\n",
        "!wget https://dl.dropboxusercontent.com/s/mll1vn14zqcb1os/train.csv\n",
        "!wget https://dl.dropboxusercontent.com/s/607wpoldwv10xn3/test.csv"
      ],
      "execution_count": 2,
      "outputs": [
        {
          "output_type": "stream",
          "text": [
            "--2019-07-08 13:55:20--  http://nlp.stanford.edu/data/glove.6B.zip\n",
            "Resolving nlp.stanford.edu (nlp.stanford.edu)... 171.64.67.140\n",
            "Connecting to nlp.stanford.edu (nlp.stanford.edu)|171.64.67.140|:80... connected.\n",
            "HTTP request sent, awaiting response... 302 Found\n",
            "Location: https://nlp.stanford.edu/data/glove.6B.zip [following]\n",
            "--2019-07-08 13:55:20--  https://nlp.stanford.edu/data/glove.6B.zip\n",
            "Connecting to nlp.stanford.edu (nlp.stanford.edu)|171.64.67.140|:443... connected.\n",
            "HTTP request sent, awaiting response... 301 Moved Permanently\n",
            "Location: http://downloads.cs.stanford.edu/nlp/data/glove.6B.zip [following]\n",
            "--2019-07-08 13:55:21--  http://downloads.cs.stanford.edu/nlp/data/glove.6B.zip\n",
            "Resolving downloads.cs.stanford.edu (downloads.cs.stanford.edu)... 171.64.64.22\n",
            "Connecting to downloads.cs.stanford.edu (downloads.cs.stanford.edu)|171.64.64.22|:80... connected.\n",
            "HTTP request sent, awaiting response... 200 OK\n",
            "Length: 862182613 (822M) [application/zip]\n",
            "Saving to: ‘glove.6B.zip’\n",
            "\n",
            "glove.6B.zip        100%[===================>] 822.24M  38.2MB/s    in 21s     \n",
            "\n",
            "2019-07-08 13:55:42 (38.4 MB/s) - ‘glove.6B.zip’ saved [862182613/862182613]\n",
            "\n",
            "--2019-07-08 13:55:43--  https://dl.fbaipublicfiles.com/fasttext/vectors-english/wiki-news-300d-1M.vec.zip\n",
            "Resolving dl.fbaipublicfiles.com (dl.fbaipublicfiles.com)... 104.20.6.166, 104.20.22.166, 2606:4700:10::6814:6a6, ...\n",
            "Connecting to dl.fbaipublicfiles.com (dl.fbaipublicfiles.com)|104.20.6.166|:443... connected.\n",
            "HTTP request sent, awaiting response... 200 OK\n",
            "Length: 681808098 (650M) [application/zip]\n",
            "Saving to: ‘wiki-news-300d-1M.vec.zip’\n",
            "\n",
            "wiki-news-300d-1M.v 100%[===================>] 650.22M  31.8MB/s    in 21s     \n",
            "\n",
            "2019-07-08 13:56:06 (30.9 MB/s) - ‘wiki-news-300d-1M.vec.zip’ saved [681808098/681808098]\n",
            "\n",
            "Archive:  glove.6B.zip\n",
            "  inflating: glove.6B.50d.txt        \n",
            "  inflating: glove.6B.100d.txt       \n",
            "  inflating: glove.6B.200d.txt       \n",
            "  inflating: glove.6B.300d.txt       \n",
            "Archive:  wiki-news-300d-1M.vec.zip\n",
            "  inflating: wiki-news-300d-1M.vec   \n",
            "--2019-07-08 13:56:54--  https://dl.dropboxusercontent.com/s/mll1vn14zqcb1os/train.csv\n",
            "Resolving dl.dropboxusercontent.com (dl.dropboxusercontent.com)... 162.125.81.6, 2620:100:601b:6::a27d:806\n",
            "Connecting to dl.dropboxusercontent.com (dl.dropboxusercontent.com)|162.125.81.6|:443... connected.\n",
            "HTTP request sent, awaiting response... 200 OK\n",
            "Length: 124206772 (118M) [text/csv]\n",
            "Saving to: ‘train.csv’\n",
            "\n",
            "train.csv           100%[===================>] 118.45M  13.1MB/s    in 12s     \n",
            "\n",
            "2019-07-08 13:57:09 (10.3 MB/s) - ‘train.csv’ saved [124206772/124206772]\n",
            "\n",
            "--2019-07-08 13:57:10--  https://dl.dropboxusercontent.com/s/607wpoldwv10xn3/test.csv\n",
            "Resolving dl.dropboxusercontent.com (dl.dropboxusercontent.com)... 162.125.81.6, 2620:100:601b:6::a27d:806\n",
            "Connecting to dl.dropboxusercontent.com (dl.dropboxusercontent.com)|162.125.81.6|:443... connected.\n",
            "HTTP request sent, awaiting response... 200 OK\n",
            "Length: 35011536 (33M) [text/csv]\n",
            "Saving to: ‘test.csv’\n",
            "\n",
            "test.csv            100%[===================>]  33.39M  9.47MB/s    in 4.9s    \n",
            "\n",
            "2019-07-08 13:57:17 (6.78 MB/s) - ‘test.csv’ saved [35011536/35011536]\n",
            "\n"
          ],
          "name": "stdout"
        }
      ]
    },
    {
      "cell_type": "code",
      "metadata": {
        "id": "CmZIqR0TWhJ2",
        "colab_type": "code",
        "colab": {}
      },
      "source": [
        "train = pd.read_csv(\"train.csv\")\n",
        "test = pd.read_csv(\"test.csv\")"
      ],
      "execution_count": 0,
      "outputs": []
    },
    {
      "cell_type": "markdown",
      "metadata": {
        "id": "pUZIuG4umLPd",
        "colab_type": "text"
      },
      "source": [
        "##Exploratory Data Analysis"
      ]
    },
    {
      "cell_type": "markdown",
      "metadata": {
        "id": "7Lqv3ExTmRqU",
        "colab_type": "text"
      },
      "source": [
        "###Check distribution of target"
      ]
    },
    {
      "cell_type": "code",
      "metadata": {
        "id": "aUGRYzYrk6Qc",
        "colab_type": "code",
        "outputId": "52dab248-efd9-4876-d8d5-90a77bf43a0c",
        "colab": {
          "base_uri": "https://localhost:8080/",
          "height": 503
        }
      },
      "source": [
        "target = train['target']\n",
        "values_count = list(target.value_counts())\n",
        "tar = ('Sincere', 'Insincere')\n",
        "\n",
        "fig, ax = plt.subplots(figsize = (6, 8))\n",
        "ax.bar([0, 1], values_count, align = 'center', color = 'pink')\n",
        "ax.text(-0.1, values_count[0] + 10000, s = str(round(values_count[0] * 100 / len(target), 2)) + '%', fontsize = 12)\n",
        "ax.text(0.9, values_count[1] + 10000, s = str(round(values_count[1] * 100 / len(target), 2)) + '%', fontsize = 12)\n",
        "ax.set_xticks([0, 1])\n",
        "ax.set_xticklabels(tar, fontsize = 12)\n",
        "ax.set_title(\"Distribution of target values\", fontsize = 14)\n",
        "plt.savefig(\"/content/Distribution_of_target.png\")\n",
        "plt.show()"
      ],
      "execution_count": 4,
      "outputs": [
        {
          "output_type": "display_data",
          "data": {
            "image/png": "[encoded data removed]",
            "text/plain": [
              "<Figure size 432x576 with 1 Axes>"
            ]
          },
          "metadata": {
            "tags": []
          }
        }
      ]
    },
    {
      "cell_type": "code",
      "metadata": {
        "id": "7Y64q6zTLJ9a",
        "colab_type": "code",
        "outputId": "9357eb8b-8c91-4adb-f731-96a24566c6c6",
        "colab": {
          "base_uri": "https://localhost:8080/",
          "height": 85
        }
      },
      "source": [
        "train.isnull().sum()"
      ],
      "execution_count": 0,
      "outputs": [
        {
          "output_type": "execute_result",
          "data": {
            "text/plain": [
              "qid              0\n",
              "question_text    0\n",
              "target           0\n",
              "dtype: int64"
            ]
          },
          "metadata": {
            "tags": []
          },
          "execution_count": 5
        }
      ]
    },
    {
      "cell_type": "markdown",
      "metadata": {
        "id": "i8LCM_EtmiZC",
        "colab_type": "text"
      },
      "source": [
        "###Check length of questions"
      ]
    },
    {
      "cell_type": "code",
      "metadata": {
        "id": "6C-MMw2QmO9C",
        "colab_type": "code",
        "outputId": "beb4aafa-e7d8-44f3-d281-1bcd6b01c3e3",
        "colab": {
          "base_uri": "https://localhost:8080/",
          "height": 187
        }
      },
      "source": [
        "print('Average word length of questions in train is {0:.0f}.'.format(np.mean(train['question_text'].apply(lambda x: len(x.split())))))\n",
        "print('Average word length of questions in test is {0:.0f}.'.format(np.mean(test['question_text'].apply(lambda x: len(x.split())))))\n",
        "print('Max word length of questions in train is {0:.0f}.'.format(np.max(train['question_text'].apply(lambda x: len(x.split(\" \"))))))\n",
        "print('Max word length of questions in test is {0:.0f}.'.format(np.max(test['question_text'].apply(lambda x: len(x.split(\" \"))))))\n",
        "print('Average character length of questions in train is {0:.0f}.'.format(np.mean(train['question_text'].apply(lambda x: len(x)))))\n",
        "print('Average character length of questions in test is {0:.0f}.'.format(np.mean(test['question_text'].apply(lambda x: len(x)))))\n",
        "print('Average word length of sincere questions in train is {0:.0f}.'.format(np.mean(train['question_text'][train['target'] == 0].apply(lambda x: len(x.split())))))\n",
        "print('Average word length of insincere questions in train is {0:.0f}.'.format(np.mean(train['question_text'][train['target'] == 1].apply(lambda x: len(x.split())))))\n",
        "print('Max word length of sincere questions in train is {0:.0f}.'.format(np.max(train['question_text'][train['target'] == 0].apply(lambda x: len(x.split())))))\n",
        "print('Max word length of insincere questions in train is {0:.0f}.'.format(np.max(test['question_text'][train['target'] == 1].apply(lambda x: len(x.split())))))"
      ],
      "execution_count": 0,
      "outputs": [
        {
          "output_type": "stream",
          "text": [
            "Average word length of questions in train is 13.\n",
            "Average word length of questions in test is 13.\n",
            "Max word length of questions in train is 122.\n",
            "Max word length of questions in test is 87.\n",
            "Average character length of questions in train is 71.\n",
            "Average character length of questions in test is 71.\n",
            "Average word length of sincere questions in train is 13.\n",
            "Average word length of insincere questions in train is 17.\n",
            "Max word length of sincere questions in train is 134.\n",
            "Max word length of insincere questions in train is 87.\n"
          ],
          "name": "stdout"
        }
      ]
    },
    {
      "cell_type": "code",
      "metadata": {
        "id": "tlT2e8sD8Ksc",
        "colab_type": "code",
        "colab": {}
      },
      "source": [
        "words_questions = np.sort(train['question_text'].apply(lambda x: len(x.split(' '))).values)\n",
        "len_questions = np.sort(train['question_text'].apply(lambda x: len(x)).values)\n",
        "\n",
        "top_min_len_questions = [np.where(train['question_text'].apply(lambda x: len(x)) == i) for i in len_questions[:5]]\n",
        "top_max_len_questions = [np.where(train['question_text'].apply(lambda x: len(x)) == i) for i in len_questions[-5:]]\n",
        "\n",
        "top_min_num_word_questions = [np.where(train['question_text'].apply(lambda x: len(x.split(' '))) == i) for i in words_questions[:5]]\n",
        "top_max_num_word_questions = [np.where(train['question_text'].apply(lambda x: len(x.split(' '))) == i) for i in words_questions[-5:]]"
      ],
      "execution_count": 0,
      "outputs": []
    },
    {
      "cell_type": "code",
      "metadata": {
        "id": "HmeA29BQ8qmB",
        "colab_type": "code",
        "colab": {
          "base_uri": "https://localhost:8080/",
          "height": 615
        },
        "outputId": "93e49dc6-a929-42fb-e556-b62100d8427e"
      },
      "source": [
        "for j in range(5):\n",
        "    for i in top_max_len_questions[j][0]:\n",
        "        print(\"Question: {}\".format(train['question_text'].values[i]))\n",
        "        print(\"Length of question: {}\".format(len(train['question_text'].values[i])))\n",
        "        print(\"Target: {}\\n-----------------------------------------------------------------------\".format(train['target'].values[i]))\n"
      ],
      "execution_count": 105,
      "outputs": [
        {
          "output_type": "stream",
          "text": [
            "Question: To you, does being a Christian mean  inviting in the spirit of Jesus into you and suppressing our own spirit? 'Thy will not mine' and all that? Do you like living as a zombie of someone else's spirit - however perfect it may be? Don't you want to experience and improve your own will and spirit and live your life as you, not Jesus?\n",
            "Length of question: 332\n",
            "Target: 1\n",
            "-----------------------------------------------------------------------\n",
            "Question: What is the answer to [math]\\frac{422}{2262\\mid 5501}\\int{846}^{}\\frac{\\Omega}{256}\\int{2551\\times 5942}^{4366+1736}\\frac{993+548}{1491\\mid 8813}\\int{\\int{}^{6x + 35}}^{8613-4985}\\frac{5509-2038}{436\\mid 5018}\\int{\\Omega}^{3984\\mid 3274}\\frac{3211-991}{\\int{895-4864}^{517}}\\int{406+910}^{\\int{8672-6582}^{\\mathbb{Z}}}\\frac{\\int{33x + 17}^{218}}{818\\mid 1124}\\int{790-6578}^{6575+3181}\\frac{\\oint{\\int{\\frac{9455+8322}{\\oint{448}^{5013-7921}}}^{3451+756}}^{2181-7743}}{1406-3695}\\frac{157}{5426-6986} [/math]?\n",
            "Length of question: 509\n",
            "Target: 0\n",
            "-----------------------------------------------------------------------\n",
            "Question: In \"Star Trek 2013\" why did they :\n",
            "\n",
            "*Spoilers*\n",
            "*Spoilers*\n",
            "*Spoilers*\n",
            "*Spoilers*\n",
            "\n",
            "1)Make warping look quite a bit like an hyperspace jump\n",
            "2)what in the world were those bright particles as soon as they jumped.\n",
            "3)Why in the world did they make it possible for two entities to react in warp space in separate jumps.\n",
            "4)Why did Spock get emotions for this movie.\n",
            "5)What was the point of hiding the \"Enterprise\" underwater.\n",
            "6)When they were intercepted by the dark ship, how come they reached Earth when they were far away from her.(I don't seem to remember the scene where they warp to earth).\n",
            "7)How did the ship enter earth's atmosphere when it wasnt even in orbit.\n",
            "8)When Scotty opened the door of the black ship , how come pike and khan didn't slow down?\n",
            "Length of question: 752\n",
            "Target: 0\n",
            "-----------------------------------------------------------------------\n",
            "Question: What is [math]\\overbrace{\\sum_{\\vartheta=8}^{\\infty} \\vec{\\frac{\\sum_{\\kappa=7}^{\\infty} \\overbrace{1x^0}^{\\text{Read carefully.}}-3x^{-1} \\div 1x^5+{\\sqrt[3]{2x^{-3}}}^{1x^0}+\\vec{\\vec{{3x^{-3}}^{1x^{-2}}}}}{\\sum_{\\dagger=9}^{\\infty} \\vec{\\boxed{\\boxed{3x^{-1}}+3x^1 \\times 1x^{-5}}}}} \\div \\sin(\\boxed{\\boxed{\\vec{3x^{-5}}}+\\sqrt[4]{2x^{-4}}+\\vec{2x^{-3}} \\div \\sin(\\sqrt[5]{\\int_{1x^5}^{2x^5} 2x^{-3} d\\varrho}) \\times \\vec{{\\underbrace{2x^1}_{\\text{Prove This.}}}^{3x^4} \\div \\sqrt[5]{2x^{-3}}+\\sum_{\\theta=8}^{\\infty} 1x^4}}) \\times {\\boxed{\\vec{\\sum_{\\nu=8}^{\\infty} \\sum_{4=6}^{\\infty} \\sum_{\\xi=9}^{\\infty} \\boxed{3x^1}-\\boxed{\\sqrt[3]{\\sqrt[3]{2x^{-2}}}}}}}^{1x^3}-\\cos({{\\tan(\\sum_{0=6}^{\\infty} \\tan(\\overbrace{\\frac{\\boxed{1x^1}-\\sqrt[3]{3x^{-2}}}{\\sum_{\\eta=10}^{\\infty} 1x^{-3} \\div 1x^1}}^{\\text{Molar Quantity.}}))}^{1x^3}}^{1x^{-4}})}^{\\text{Expanded.}}[/math]?\n",
            "Length of question: 878\n",
            "Target: 1\n",
            "-----------------------------------------------------------------------\n",
            "Question: What is [math]\\frac{\\int_{1x^5}^{3x^{-5}} \\tan(\\tan({\\boxed{\\int_{1x^0}^{1x^2} \\sum_{\\varpi=1}^{\\infty} \\int_{2x^{-3}}^{2x^2} \\sum_{\\alpha=7}^{\\infty} \\underbrace{\\sqrt[2]{1x^5}}_{\\text{Gauss's Law of Theoretical Probability.}} d\\tau dx}}^{1x^0})) d\\mu}{\\int_{2x^{-3}}^{1x^5} \\cos(\\int_{2x^2}^{1x^{-3}} \\frac{\\sqrt[2]{\\overbrace{\\underbrace{\\frac{3x^3+3x^5}{\\sqrt[3]{2x^{-3}}}}_{\\text{Gauss's Law of Theoretical Probability.}} \\times \\overbrace{\\tan(2x^0)}^{\\text{Gauss's Law of Theoretical Probability.}}-\\sum_{4=7}^{\\infty} \\boxed{3x^{-5}}}^{\\text{Inverse Function.}}}}{{\\boxed{\\int_{2x^2}^{2x^4} 3x^1 d9} \\div \\sum_{6=6}^{\\infty} \\sqrt[3]{2x^2}+\\sqrt[4]{\\sin(2x^0+3x^0)}}^{2x^{-4}}+\\boxed{\\frac{\\vec{\\boxed{\\sum_{\\gamma=10}^{\\infty} 1x^{-5}}}}{\\frac{\\sum_{\\iota=2}^{\\infty} 1x^{-5}-\\frac{3x^{-1}}{1x^{-4}}}{\\sin(\\tan(3x^{-2}))}}}} \\times \\boxed{\\sqrt[2]{{{{\\sqrt[5]{2x^5}}^{2x^{-1}}}^{2x^{-1}} \\div \\sum_{\\chi=6}^{\\infty} \\int_{1x^4}^{2x^{-4}} 3x^2 d\\vartheta+{2x^{-3}}^{2x^{-5}}}^{3x^{-4}}}} d\\mu) d\\iota}[/math]?\n",
            "Length of question: 1017\n",
            "Target: 1\n",
            "-----------------------------------------------------------------------\n"
          ],
          "name": "stdout"
        }
      ]
    },
    {
      "cell_type": "code",
      "metadata": {
        "id": "PiP-x89iEFCP",
        "colab_type": "code",
        "colab": {
          "base_uri": "https://localhost:8080/",
          "height": 901
        },
        "outputId": "bedeec5d-8bb5-419e-b816-5c5cc909ec35"
      },
      "source": [
        "for j in range(len(top_min_len_questions)):\n",
        "    for i in top_min_len_questions[j][0]:\n",
        "        print(\"Question: {}\".format(train['question_text'].values[i]))\n",
        "        print(\"Length of question: {}\".format(len(train['question_text'].values[i])))\n",
        "        print(\"Target: {}\\n-----------------------------------------------------------------------\".format(train['target'].values[i]))\n"
      ],
      "execution_count": 102,
      "outputs": [
        {
          "output_type": "stream",
          "text": [
            "Question: \"\n",
            "Length of question: 1\n",
            "Target: 1\n",
            "-----------------------------------------------------------------------\n",
            "Question: W\n",
            "Length of question: 1\n",
            "Target: 1\n",
            "-----------------------------------------------------------------------\n",
            "Question: \"\n",
            "Length of question: 1\n",
            "Target: 1\n",
            "-----------------------------------------------------------------------\n",
            "Question: W\n",
            "Length of question: 1\n",
            "Target: 1\n",
            "-----------------------------------------------------------------------\n",
            "Question: Is \n",
            "Length of question: 3\n",
            "Target: 1\n",
            "-----------------------------------------------------------------------\n",
            "Question: If \n",
            "Length of question: 3\n",
            "Target: 1\n",
            "-----------------------------------------------------------------------\n",
            "Question: Do \n",
            "Length of question: 3\n",
            "Target: 1\n",
            "-----------------------------------------------------------------------\n",
            "Question: Is \n",
            "Length of question: 3\n",
            "Target: 1\n",
            "-----------------------------------------------------------------------\n",
            "Question: If \n",
            "Length of question: 3\n",
            "Target: 1\n",
            "-----------------------------------------------------------------------\n",
            "Question: Do \n",
            "Length of question: 3\n",
            "Target: 1\n",
            "-----------------------------------------------------------------------\n",
            "Question: Is \n",
            "Length of question: 3\n",
            "Target: 1\n",
            "-----------------------------------------------------------------------\n",
            "Question: If \n",
            "Length of question: 3\n",
            "Target: 1\n",
            "-----------------------------------------------------------------------\n",
            "Question: Do \n",
            "Length of question: 3\n",
            "Target: 1\n",
            "-----------------------------------------------------------------------\n"
          ],
          "name": "stdout"
        }
      ]
    },
    {
      "cell_type": "code",
      "metadata": {
        "id": "XddjcdI4E3gG",
        "colab_type": "code",
        "colab": {
          "base_uri": "https://localhost:8080/",
          "height": 615
        },
        "outputId": "128a64d2-bd97-4e6b-bab9-6b590ad802f2"
      },
      "source": [
        "for j in range(len(top_max_num_word_questions)):\n",
        "    for i in top_max_num_word_questions[j][0]:\n",
        "        print(\"Question: {}\".format(train['question_text'].values[i]))\n",
        "        print(\"Number of word in question: {}\".format(len(train['question_text'].values[i].split(' '))))\n",
        "        print(\"Target: {}\\n-----------------------------------------------------------------------\".format(train['target'].values[i]))"
      ],
      "execution_count": 103,
      "outputs": [
        {
          "output_type": "stream",
          "text": [
            "Question: How can i reduce about 10 kgs in next 3 months? Due to work and lot of functions since last 3months, i gained weight. I feel down now. My body always react fast to the food and exercise that i do. I can spare maximum of 1hrs per day but cant go to gym. Can someone advice to reduce weight like this?\n",
            "Number of word in question: 62\n",
            "Target: 0\n",
            "-----------------------------------------------------------------------\n",
            "Question: To you, does being a Christian mean  inviting in the spirit of Jesus into you and suppressing our own spirit? 'Thy will not mine' and all that? Do you like living as a zombie of someone else's spirit - however perfect it may be? Don't you want to experience and improve your own will and spirit and live your life as you, not Jesus?\n",
            "Number of word in question: 64\n",
            "Target: 1\n",
            "-----------------------------------------------------------------------\n",
            "Question: Let A be a set of all integers between 0 to 100 Let B be a set of all odd numbers Let C be a set of all composite numbers May I define a set D that is the intersection of B and C within the scope of A as D = {d : d ∈ B ∩ C, B ⊆ A, C ⊆ A}?\n",
            "Number of word in question: 65\n",
            "Target: 0\n",
            "-----------------------------------------------------------------------\n",
            "Question: What is the value of k in $\\begin {array} kx & + & y & + & z & = & 1 \\\\ x & + & ky & + & z & = & 1 \\\\ x & + & y & + & kz & = & 1 \\end {array} $ such that the sistem has a single solution, infinite solutions and no solution?\n",
            "Number of word in question: 66\n",
            "Target: 0\n",
            "-----------------------------------------------------------------------\n",
            "Question: In \"Star Trek 2013\" why did they :\n",
            "\n",
            "*Spoilers*\n",
            "*Spoilers*\n",
            "*Spoilers*\n",
            "*Spoilers*\n",
            "\n",
            "1)Make warping look quite a bit like an hyperspace jump\n",
            "2)what in the world were those bright particles as soon as they jumped.\n",
            "3)Why in the world did they make it possible for two entities to react in warp space in separate jumps.\n",
            "4)Why did Spock get emotions for this movie.\n",
            "5)What was the point of hiding the \"Enterprise\" underwater.\n",
            "6)When they were intercepted by the dark ship, how come they reached Earth when they were far away from her.(I don't seem to remember the scene where they warp to earth).\n",
            "7)How did the ship enter earth's atmosphere when it wasnt even in orbit.\n",
            "8)When Scotty opened the door of the black ship , how come pike and khan didn't slow down?\n",
            "Number of word in question: 122\n",
            "Target: 0\n",
            "-----------------------------------------------------------------------\n"
          ],
          "name": "stdout"
        }
      ]
    },
    {
      "cell_type": "code",
      "metadata": {
        "id": "Qv2l1vQZE3q8",
        "colab_type": "code",
        "colab": {
          "base_uri": "https://localhost:8080/",
          "height": 1000
        },
        "outputId": "dabd73ff-1457-446f-ef21-74e0e282bebe"
      },
      "source": [
        "for j in range(len(top_min_num_word_questions)):\n",
        "    for i in top_min_num_word_questions[j][0]:\n",
        "        print(\"Question: {}\".format(train['question_text'].values[i]))\n",
        "        print(\"Number of word in question: {}\".format(len(train['question_text'].values[i].split(' '))))\n",
        "        print(\"Target: {}\\n-----------------------------------------------------------------------\".format(train['target'].values[i]))"
      ],
      "execution_count": 104,
      "outputs": [
        {
          "output_type": "stream",
          "text": [
            "Question: \"\n",
            "Number of word in question: 1\n",
            "Target: 1\n",
            "-----------------------------------------------------------------------\n",
            "Question: [math]24-7=?[/math]\n",
            "Number of word in question: 1\n",
            "Target: 1\n",
            "-----------------------------------------------------------------------\n",
            "Question: W\n",
            "Number of word in question: 1\n",
            "Target: 1\n",
            "-----------------------------------------------------------------------\n",
            "Question: \"\n",
            "Number of word in question: 1\n",
            "Target: 1\n",
            "-----------------------------------------------------------------------\n",
            "Question: [math]24-7=?[/math]\n",
            "Number of word in question: 1\n",
            "Target: 1\n",
            "-----------------------------------------------------------------------\n",
            "Question: W\n",
            "Number of word in question: 1\n",
            "Target: 1\n",
            "-----------------------------------------------------------------------\n",
            "Question: \"\n",
            "Number of word in question: 1\n",
            "Target: 1\n",
            "-----------------------------------------------------------------------\n",
            "Question: [math]24-7=?[/math]\n",
            "Number of word in question: 1\n",
            "Target: 1\n",
            "-----------------------------------------------------------------------\n",
            "Question: W\n",
            "Number of word in question: 1\n",
            "Target: 1\n",
            "-----------------------------------------------------------------------\n",
            "Question: Are Jat and Gujjar girls beautiful?\n",
            "Number of word in question: 2\n",
            "Target: 1\n",
            "-----------------------------------------------------------------------\n",
            "Question: What's friendship?\n",
            "Number of word in question: 2\n",
            "Target: 0\n",
            "-----------------------------------------------------------------------\n",
            "Question: Quora: \n",
            "Number of word in question: 2\n",
            "Target: 1\n",
            "-----------------------------------------------------------------------\n",
            "Question: Is \n",
            "Number of word in question: 2\n",
            "Target: 1\n",
            "-----------------------------------------------------------------------\n",
            "Question: In Islam?\n",
            "Number of word in question: 2\n",
            "Target: 0\n",
            "-----------------------------------------------------------------------\n",
            "Question: What isOrganism?\n",
            "Number of word in question: 2\n",
            "Target: 0\n",
            "-----------------------------------------------------------------------\n",
            "Question: Dowry: \n",
            "Number of word in question: 2\n",
            "Target: 1\n",
            "-----------------------------------------------------------------------\n",
            "Question: Imagination: \n",
            "Number of word in question: 2\n",
            "Target: 1\n",
            "-----------------------------------------------------------------------\n",
            "Question: Can coffee?\n",
            "Number of word in question: 2\n",
            "Target: 0\n",
            "-----------------------------------------------------------------------\n",
            "Question: What's pornstar?\n",
            "Number of word in question: 2\n",
            "Target: 0\n",
            "-----------------------------------------------------------------------\n",
            "Question: I 12?\n",
            "Number of word in question: 2\n",
            "Target: 0\n",
            "-----------------------------------------------------------------------\n",
            "Question: What's? E=mc2\n",
            "Number of word in question: 2\n",
            "Target: 0\n",
            "-----------------------------------------------------------------------\n",
            "Question: If \n",
            "Number of word in question: 2\n",
            "Target: 1\n",
            "-----------------------------------------------------------------------\n",
            "Question: What’s 1+1=?\n",
            "Number of word in question: 2\n",
            "Target: 0\n",
            "-----------------------------------------------------------------------\n",
            "Question: Whatis diphthong?\n",
            "Number of word in question: 2\n",
            "Target: 0\n",
            "-----------------------------------------------------------------------\n",
            "Question: To Quora:\n",
            "Number of word in question: 2\n",
            "Target: 1\n",
            "-----------------------------------------------------------------------\n",
            "Question: Sexism: \n",
            "Number of word in question: 2\n",
            "Target: 1\n",
            "-----------------------------------------------------------------------\n",
            "Question: Hungary: \n",
            "Number of word in question: 2\n",
            "Target: 1\n",
            "-----------------------------------------------------------------------\n",
            "Question: History: \n",
            "Number of word in question: 2\n",
            "Target: 1\n",
            "-----------------------------------------------------------------------\n",
            "Question: Islam: \n",
            "Number of word in question: 2\n",
            "Target: 1\n",
            "-----------------------------------------------------------------------\n",
            "Question: Does Bangladeshis?\n",
            "Number of word in question: 2\n",
            "Target: 0\n",
            "-----------------------------------------------------------------------\n",
            "Question: Politics: \n",
            "Number of word in question: 2\n",
            "Target: 1\n",
            "-----------------------------------------------------------------------\n",
            "Question: Feminism: \n",
            "Number of word in question: 2\n",
            "Target: 1\n",
            "-----------------------------------------------------------------------\n",
            "Question: Whatis extempore?\n",
            "Number of word in question: 2\n",
            "Target: 0\n",
            "-----------------------------------------------------------------------\n",
            "Question: Human needs?\n",
            "Number of word in question: 2\n",
            "Target: 0\n",
            "-----------------------------------------------------------------------\n",
            "Question: Germany: \n",
            "Number of word in question: 2\n",
            "Target: 1\n",
            "-----------------------------------------------------------------------\n",
            "Question: Nepal: \n",
            "Number of word in question: 2\n",
            "Target: 1\n",
            "-----------------------------------------------------------------------\n",
            "Question: What sexy?\n",
            "Number of word in question: 2\n",
            "Target: 0\n",
            "-----------------------------------------------------------------------\n",
            "Question: Whofound India?\n",
            "Number of word in question: 2\n",
            "Target: 0\n",
            "-----------------------------------------------------------------------\n",
            "Question: India: \n",
            "Number of word in question: 2\n",
            "Target: 1\n",
            "-----------------------------------------------------------------------\n",
            "Question: What's ejection?\n",
            "Number of word in question: 2\n",
            "Target: 0\n",
            "-----------------------------------------------------------------------\n",
            "Question: What's WhatsApp?\n",
            "Number of word in question: 2\n",
            "Target: 0\n",
            "-----------------------------------------------------------------------\n",
            "Question: What cyber?\n",
            "Number of word in question: 2\n",
            "Target: 0\n",
            "-----------------------------------------------------------------------\n",
            "Question: Google jigsaw?\n",
            "Number of word in question: 2\n",
            "Target: 0\n",
            "-----------------------------------------------------------------------\n",
            "Question: Sykes–Picot Agreement?\n",
            "Number of word in question: 2\n",
            "Target: 0\n",
            "-----------------------------------------------------------------------\n",
            "Question: Wicca: \n",
            "Number of word in question: 2\n",
            "Target: 1\n",
            "-----------------------------------------------------------------------\n",
            "Question: Bye Bye?\n",
            "Number of word in question: 2\n",
            "Target: 1\n",
            "-----------------------------------------------------------------------\n",
            "Question: What meow?\n",
            "Number of word in question: 2\n",
            "Target: 0\n",
            "-----------------------------------------------------------------------\n",
            "Question: Maladaptive daydreaming?\n",
            "Number of word in question: 2\n",
            "Target: 0\n",
            "-----------------------------------------------------------------------\n",
            "Question: Incest: \n",
            "Number of word in question: 2\n",
            "Target: 1\n",
            "-----------------------------------------------------------------------\n",
            "Question: Whatis demobilisation?\n",
            "Number of word in question: 2\n",
            "Target: 0\n",
            "-----------------------------------------------------------------------\n",
            "Question: MIS reports?\n",
            "Number of word in question: 2\n",
            "Target: 0\n",
            "-----------------------------------------------------------------------\n",
            "Question: Semspa center?\n",
            "Number of word in question: 2\n",
            "Target: 0\n",
            "-----------------------------------------------------------------------\n",
            "Question: Do \n",
            "Number of word in question: 2\n",
            "Target: 1\n",
            "-----------------------------------------------------------------------\n",
            "Question: IS---RA---EL (OHIM)?\n",
            "Number of word in question: 2\n",
            "Target: 1\n",
            "-----------------------------------------------------------------------\n",
            "Question: What's KFC?\n",
            "Number of word in question: 2\n",
            "Target: 0\n",
            "-----------------------------------------------------------------------\n",
            "Question: Hello sir?\n",
            "Number of word in question: 2\n",
            "Target: 0\n",
            "-----------------------------------------------------------------------\n",
            "Question: Whatis synergy?\n",
            "Number of word in question: 2\n",
            "Target: 0\n",
            "-----------------------------------------------------------------------\n",
            "Question: Explain cryptocurrency?\n",
            "Number of word in question: 2\n",
            "Target: 0\n",
            "-----------------------------------------------------------------------\n",
            "Question: What's disadvantage?\n",
            "Number of word in question: 2\n",
            "Target: 0\n",
            "-----------------------------------------------------------------------\n",
            "Question: What nudist?\n",
            "Number of word in question: 2\n",
            "Target: 0\n",
            "-----------------------------------------------------------------------\n",
            "Question: Poland: \n",
            "Number of word in question: 2\n",
            "Target: 1\n",
            "-----------------------------------------------------------------------\n",
            "Question: Are rabbits?\n",
            "Number of word in question: 2\n",
            "Target: 0\n",
            "-----------------------------------------------------------------------\n",
            "Question: Why hospitality?\n",
            "Number of word in question: 2\n",
            "Target: 0\n",
            "-----------------------------------------------------------------------\n",
            "Question: Whatis computer?\n",
            "Number of word in question: 2\n",
            "Target: 0\n",
            "-----------------------------------------------------------------------\n",
            "Question: Whorote gitanjali?\n",
            "Number of word in question: 2\n",
            "Target: 0\n",
            "-----------------------------------------------------------------------\n",
            "Question: What's geology?\n",
            "Number of word in question: 2\n",
            "Target: 0\n",
            "-----------------------------------------------------------------------\n",
            "Question: Who.ismost powerful.man?\n",
            "Number of word in question: 2\n",
            "Target: 0\n",
            "-----------------------------------------------------------------------\n",
            "Question: What graphic?\n",
            "Number of word in question: 2\n",
            "Target: 0\n",
            "-----------------------------------------------------------------------\n",
            "Question: Free Sandeep?\n",
            "Number of word in question: 2\n",
            "Target: 0\n",
            "-----------------------------------------------------------------------\n",
            "Question: Are Jehovah's Witnesses evil?\n",
            "Number of word in question: 2\n",
            "Target: 1\n",
            "-----------------------------------------------------------------------\n",
            "Question: What's sensitivity?\n",
            "Number of word in question: 2\n",
            "Target: 0\n",
            "-----------------------------------------------------------------------\n",
            "Question: Nuclear weapons?\n",
            "Number of word in question: 2\n",
            "Target: 0\n",
            "-----------------------------------------------------------------------\n",
            "Question: Colonialism: \n",
            "Number of word in question: 2\n",
            "Target: 1\n",
            "-----------------------------------------------------------------------\n",
            "Question: Which certification?\n",
            "Number of word in question: 2\n",
            "Target: 0\n",
            "-----------------------------------------------------------------------\n",
            "Question: Criminals: \n",
            "Number of word in question: 2\n",
            "Target: 1\n",
            "-----------------------------------------------------------------------\n",
            "Question: VJTI TEXTILE?\n",
            "Number of word in question: 2\n",
            "Target: 0\n",
            "-----------------------------------------------------------------------\n",
            "Question: Identity: \n",
            "Number of word in question: 2\n",
            "Target: 1\n",
            "-----------------------------------------------------------------------\n",
            "Question: Whtis love?\n",
            "Number of word in question: 2\n",
            "Target: 0\n",
            "-----------------------------------------------------------------------\n",
            "Question: Neigh! Whinny!\n",
            "Number of word in question: 2\n",
            "Target: 1\n",
            "-----------------------------------------------------------------------\n",
            "Question: Whats nuclear?\n",
            "Number of word in question: 2\n",
            "Target: 0\n",
            "-----------------------------------------------------------------------\n",
            "Question: UTGST RATES?\n",
            "Number of word in question: 2\n",
            "Target: 0\n",
            "-----------------------------------------------------------------------\n",
            "Question: Whatis rpm?\n",
            "Number of word in question: 2\n",
            "Target: 0\n",
            "-----------------------------------------------------------------------\n",
            "Question: Are Jat and Gujjar girls beautiful?\n",
            "Number of word in question: 2\n",
            "Target: 1\n",
            "-----------------------------------------------------------------------\n",
            "Question: What's friendship?\n",
            "Number of word in question: 2\n",
            "Target: 0\n",
            "-----------------------------------------------------------------------\n",
            "Question: Quora: \n",
            "Number of word in question: 2\n",
            "Target: 1\n",
            "-----------------------------------------------------------------------\n",
            "Question: Is \n",
            "Number of word in question: 2\n",
            "Target: 1\n",
            "-----------------------------------------------------------------------\n",
            "Question: In Islam?\n",
            "Number of word in question: 2\n",
            "Target: 0\n",
            "-----------------------------------------------------------------------\n",
            "Question: What isOrganism?\n",
            "Number of word in question: 2\n",
            "Target: 0\n",
            "-----------------------------------------------------------------------\n",
            "Question: Dowry: \n",
            "Number of word in question: 2\n",
            "Target: 1\n",
            "-----------------------------------------------------------------------\n",
            "Question: Imagination: \n",
            "Number of word in question: 2\n",
            "Target: 1\n",
            "-----------------------------------------------------------------------\n",
            "Question: Can coffee?\n",
            "Number of word in question: 2\n",
            "Target: 0\n",
            "-----------------------------------------------------------------------\n",
            "Question: What's pornstar?\n",
            "Number of word in question: 2\n",
            "Target: 0\n",
            "-----------------------------------------------------------------------\n",
            "Question: I 12?\n",
            "Number of word in question: 2\n",
            "Target: 0\n",
            "-----------------------------------------------------------------------\n",
            "Question: What's? E=mc2\n",
            "Number of word in question: 2\n",
            "Target: 0\n",
            "-----------------------------------------------------------------------\n",
            "Question: If \n",
            "Number of word in question: 2\n",
            "Target: 1\n",
            "-----------------------------------------------------------------------\n",
            "Question: What’s 1+1=?\n",
            "Number of word in question: 2\n",
            "Target: 0\n",
            "-----------------------------------------------------------------------\n",
            "Question: Whatis diphthong?\n",
            "Number of word in question: 2\n",
            "Target: 0\n",
            "-----------------------------------------------------------------------\n",
            "Question: To Quora:\n",
            "Number of word in question: 2\n",
            "Target: 1\n",
            "-----------------------------------------------------------------------\n",
            "Question: Sexism: \n",
            "Number of word in question: 2\n",
            "Target: 1\n",
            "-----------------------------------------------------------------------\n",
            "Question: Hungary: \n",
            "Number of word in question: 2\n",
            "Target: 1\n",
            "-----------------------------------------------------------------------\n",
            "Question: History: \n",
            "Number of word in question: 2\n",
            "Target: 1\n",
            "-----------------------------------------------------------------------\n",
            "Question: Islam: \n",
            "Number of word in question: 2\n",
            "Target: 1\n",
            "-----------------------------------------------------------------------\n",
            "Question: Does Bangladeshis?\n",
            "Number of word in question: 2\n",
            "Target: 0\n",
            "-----------------------------------------------------------------------\n",
            "Question: Politics: \n",
            "Number of word in question: 2\n",
            "Target: 1\n",
            "-----------------------------------------------------------------------\n",
            "Question: Feminism: \n",
            "Number of word in question: 2\n",
            "Target: 1\n",
            "-----------------------------------------------------------------------\n",
            "Question: Whatis extempore?\n",
            "Number of word in question: 2\n",
            "Target: 0\n",
            "-----------------------------------------------------------------------\n",
            "Question: Human needs?\n",
            "Number of word in question: 2\n",
            "Target: 0\n",
            "-----------------------------------------------------------------------\n",
            "Question: Germany: \n",
            "Number of word in question: 2\n",
            "Target: 1\n",
            "-----------------------------------------------------------------------\n",
            "Question: Nepal: \n",
            "Number of word in question: 2\n",
            "Target: 1\n",
            "-----------------------------------------------------------------------\n",
            "Question: What sexy?\n",
            "Number of word in question: 2\n",
            "Target: 0\n",
            "-----------------------------------------------------------------------\n",
            "Question: Whofound India?\n",
            "Number of word in question: 2\n",
            "Target: 0\n",
            "-----------------------------------------------------------------------\n",
            "Question: India: \n",
            "Number of word in question: 2\n",
            "Target: 1\n",
            "-----------------------------------------------------------------------\n",
            "Question: What's ejection?\n",
            "Number of word in question: 2\n",
            "Target: 0\n",
            "-----------------------------------------------------------------------\n",
            "Question: What's WhatsApp?\n",
            "Number of word in question: 2\n",
            "Target: 0\n",
            "-----------------------------------------------------------------------\n",
            "Question: What cyber?\n",
            "Number of word in question: 2\n",
            "Target: 0\n",
            "-----------------------------------------------------------------------\n",
            "Question: Google jigsaw?\n",
            "Number of word in question: 2\n",
            "Target: 0\n",
            "-----------------------------------------------------------------------\n",
            "Question: Sykes–Picot Agreement?\n",
            "Number of word in question: 2\n",
            "Target: 0\n",
            "-----------------------------------------------------------------------\n",
            "Question: Wicca: \n",
            "Number of word in question: 2\n",
            "Target: 1\n",
            "-----------------------------------------------------------------------\n",
            "Question: Bye Bye?\n",
            "Number of word in question: 2\n",
            "Target: 1\n",
            "-----------------------------------------------------------------------\n",
            "Question: What meow?\n",
            "Number of word in question: 2\n",
            "Target: 0\n",
            "-----------------------------------------------------------------------\n",
            "Question: Maladaptive daydreaming?\n",
            "Number of word in question: 2\n",
            "Target: 0\n",
            "-----------------------------------------------------------------------\n",
            "Question: Incest: \n",
            "Number of word in question: 2\n",
            "Target: 1\n",
            "-----------------------------------------------------------------------\n",
            "Question: Whatis demobilisation?\n",
            "Number of word in question: 2\n",
            "Target: 0\n",
            "-----------------------------------------------------------------------\n",
            "Question: MIS reports?\n",
            "Number of word in question: 2\n",
            "Target: 0\n",
            "-----------------------------------------------------------------------\n",
            "Question: Semspa center?\n",
            "Number of word in question: 2\n",
            "Target: 0\n",
            "-----------------------------------------------------------------------\n",
            "Question: Do \n",
            "Number of word in question: 2\n",
            "Target: 1\n",
            "-----------------------------------------------------------------------\n",
            "Question: IS---RA---EL (OHIM)?\n",
            "Number of word in question: 2\n",
            "Target: 1\n",
            "-----------------------------------------------------------------------\n",
            "Question: What's KFC?\n",
            "Number of word in question: 2\n",
            "Target: 0\n",
            "-----------------------------------------------------------------------\n",
            "Question: Hello sir?\n",
            "Number of word in question: 2\n",
            "Target: 0\n",
            "-----------------------------------------------------------------------\n",
            "Question: Whatis synergy?\n",
            "Number of word in question: 2\n",
            "Target: 0\n",
            "-----------------------------------------------------------------------\n",
            "Question: Explain cryptocurrency?\n",
            "Number of word in question: 2\n",
            "Target: 0\n",
            "-----------------------------------------------------------------------\n",
            "Question: What's disadvantage?\n",
            "Number of word in question: 2\n",
            "Target: 0\n",
            "-----------------------------------------------------------------------\n",
            "Question: What nudist?\n",
            "Number of word in question: 2\n",
            "Target: 0\n",
            "-----------------------------------------------------------------------\n",
            "Question: Poland: \n",
            "Number of word in question: 2\n",
            "Target: 1\n",
            "-----------------------------------------------------------------------\n",
            "Question: Are rabbits?\n",
            "Number of word in question: 2\n",
            "Target: 0\n",
            "-----------------------------------------------------------------------\n",
            "Question: Why hospitality?\n",
            "Number of word in question: 2\n",
            "Target: 0\n",
            "-----------------------------------------------------------------------\n",
            "Question: Whatis computer?\n",
            "Number of word in question: 2\n",
            "Target: 0\n",
            "-----------------------------------------------------------------------\n",
            "Question: Whorote gitanjali?\n",
            "Number of word in question: 2\n",
            "Target: 0\n",
            "-----------------------------------------------------------------------\n",
            "Question: What's geology?\n",
            "Number of word in question: 2\n",
            "Target: 0\n",
            "-----------------------------------------------------------------------\n",
            "Question: Who.ismost powerful.man?\n",
            "Number of word in question: 2\n",
            "Target: 0\n",
            "-----------------------------------------------------------------------\n",
            "Question: What graphic?\n",
            "Number of word in question: 2\n",
            "Target: 0\n",
            "-----------------------------------------------------------------------\n",
            "Question: Free Sandeep?\n",
            "Number of word in question: 2\n",
            "Target: 0\n",
            "-----------------------------------------------------------------------\n",
            "Question: Are Jehovah's Witnesses evil?\n",
            "Number of word in question: 2\n",
            "Target: 1\n",
            "-----------------------------------------------------------------------\n",
            "Question: What's sensitivity?\n",
            "Number of word in question: 2\n",
            "Target: 0\n",
            "-----------------------------------------------------------------------\n",
            "Question: Nuclear weapons?\n",
            "Number of word in question: 2\n",
            "Target: 0\n",
            "-----------------------------------------------------------------------\n",
            "Question: Colonialism: \n",
            "Number of word in question: 2\n",
            "Target: 1\n",
            "-----------------------------------------------------------------------\n",
            "Question: Which certification?\n",
            "Number of word in question: 2\n",
            "Target: 0\n",
            "-----------------------------------------------------------------------\n",
            "Question: Criminals: \n",
            "Number of word in question: 2\n",
            "Target: 1\n",
            "-----------------------------------------------------------------------\n",
            "Question: VJTI TEXTILE?\n",
            "Number of word in question: 2\n",
            "Target: 0\n",
            "-----------------------------------------------------------------------\n",
            "Question: Identity: \n",
            "Number of word in question: 2\n",
            "Target: 1\n",
            "-----------------------------------------------------------------------\n",
            "Question: Whtis love?\n",
            "Number of word in question: 2\n",
            "Target: 0\n",
            "-----------------------------------------------------------------------\n",
            "Question: Neigh! Whinny!\n",
            "Number of word in question: 2\n",
            "Target: 1\n",
            "-----------------------------------------------------------------------\n",
            "Question: Whats nuclear?\n",
            "Number of word in question: 2\n",
            "Target: 0\n",
            "-----------------------------------------------------------------------\n",
            "Question: UTGST RATES?\n",
            "Number of word in question: 2\n",
            "Target: 0\n",
            "-----------------------------------------------------------------------\n",
            "Question: Whatis rpm?\n",
            "Number of word in question: 2\n",
            "Target: 0\n",
            "-----------------------------------------------------------------------\n"
          ],
          "name": "stdout"
        }
      ]
    },
    {
      "cell_type": "markdown",
      "metadata": {
        "id": "2HTln2ZqpnAC",
        "colab_type": "text"
      },
      "source": [
        "###Word count plot"
      ]
    },
    {
      "cell_type": "code",
      "metadata": {
        "id": "Gwmsi2hcpprL",
        "colab_type": "code",
        "outputId": "93c123c3-4cc2-4f4d-d8c8-eb7f64c40cf6",
        "colab": {
          "base_uri": "https://localhost:8080/",
          "height": 68
        }
      },
      "source": [
        "punctuations = string.punctuation\n",
        "stop_word = stopwords.words('english')\n",
        "def stopwords_punctuation(sentence):\n",
        "    s = ''\n",
        "    for punc in punctuations:\n",
        "        sentence = sentence.replace(punc, '')\n",
        "    for word in sentence.lower().split(\" \"):\n",
        "        if word not in stop_word:\n",
        "            s += word + \" \"\n",
        "    return s[:len(s) - 1]\n",
        "\n",
        "def remove_stopwords_punctuation(df):\n",
        "    clean = []\n",
        "    for sentence in tqdm(df['question_text'].values):\n",
        "        clean.append(stopwords_punctuation(sentence))\n",
        "    return clean\n",
        "\n",
        "sincere = train[train['target'] == 0]\n",
        "insincere = train[train['target'] == 1]\n",
        "\n",
        "clean_sincere = remove_stopwords_punctuation(sincere)\n",
        "clean_insincere = remove_stopwords_punctuation(insincere)\n",
        "clean_data = remove_stopwords_punctuation(train)"
      ],
      "execution_count": 4,
      "outputs": [
        {
          "output_type": "stream",
          "text": [
            "100%|██████████| 1225312/1225312 [00:39<00:00, 30648.04it/s]\n",
            "100%|██████████| 80810/80810 [00:03<00:00, 22810.16it/s]\n",
            "100%|██████████| 1306122/1306122 [00:43<00:00, 30066.54it/s]\n"
          ],
          "name": "stderr"
        }
      ]
    },
    {
      "cell_type": "code",
      "metadata": {
        "id": "uPAENXL-py-U",
        "colab_type": "code",
        "outputId": "c54ad24d-c1b1-47b1-f246-ca1281b9d694",
        "colab": {
          "base_uri": "https://localhost:8080/",
          "height": 318
        }
      },
      "source": [
        "wc_sincere = WordCloud().generate(' '.join(clean_sincere).lower())\n",
        "wc_insincere = WordCloud().generate(' '.join(clean_insincere).lower())\n",
        "\n",
        "fig, ax = plt.subplots(1, 2, figsize = (20, 6))\n",
        "\n",
        "ax[0].imshow(wc_sincere)\n",
        "ax[0].set_title(\"Top used word in sincere question\")\n",
        "ax[0].axis('off')\n",
        "\n",
        "ax[1].imshow(wc_insincere)\n",
        "ax[1].set_title(\"Top used word in insincere question\")\n",
        "ax[1].axis('off')\n",
        "plt.show()"
      ],
      "execution_count": 0,
      "outputs": [
        {
          "output_type": "display_data",
          "data": {
            "image/png": "[encoded data removed]",
            "text/plain": [
              "<Figure size 1440x432 with 2 Axes>"
            ]
          },
          "metadata": {
            "tags": []
          }
        }
      ]
    },
    {
      "cell_type": "markdown",
      "metadata": {
        "id": "pFawkSnvqBlO",
        "colab_type": "text"
      },
      "source": [
        "##Building model"
      ]
    },
    {
      "cell_type": "markdown",
      "metadata": {
        "id": "53i6h044v2vd",
        "colab_type": "text"
      },
      "source": [
        "## Logistic Regression"
      ]
    },
    {
      "cell_type": "code",
      "metadata": {
        "id": "KXir3Z7Fq3uz",
        "colab_type": "code",
        "colab": {}
      },
      "source": [
        "X_train, X_test, Y_train, Y_test = train_test_split(train['question_text'].values, train['target'].values, test_size = 0.2, random_state = 5)\n",
        "X_test, X_val, Y_test, Y_val = train_test_split(X_test, Y_test, test_size = 0.5, random_state = 10)"
      ],
      "execution_count": 0,
      "outputs": []
    },
    {
      "cell_type": "code",
      "metadata": {
        "id": "liZhfI-vkuaj",
        "colab_type": "code",
        "colab": {}
      },
      "source": [
        "tfv = TfidfVectorizer(min_df=3, max_features=None, \n",
        "                      strip_accents='unicode', analyzer='word',\n",
        "                      ngram_range=(1, 3))\n",
        "tfv.fit(clean_data)\n",
        "x_train = tfv.transform(X_train)\n",
        "x_test = tfv.transform(X_test)\n",
        "x_val = tfv.transform(X_val)"
      ],
      "execution_count": 0,
      "outputs": []
    },
    {
      "cell_type": "code",
      "metadata": {
        "id": "0hD6XQv8qxkA",
        "colab_type": "code",
        "colab": {
          "base_uri": "https://localhost:8080/",
          "height": 901
        },
        "outputId": "888c37fd-a7ca-4e56-a220-ce13f0ffad62"
      },
      "source": [
        "LR = LogisticRegressionCV(penalty = 'l2', solver='lbfgs', max_iter=20, random_state=1)\n",
        "LR.fit(x_train, Y_train)\n",
        "\n",
        "def result(x_test, Y_test):\n",
        "    f1 = metrics.f1_score(y_true = Y_test, y_pred = LR.predict(x_test))\n",
        "    acc = metrics.accuracy_score(y_true = Y_test, y_pred = LR.predict(x_test))\n",
        "    return f1, acc"
      ],
      "execution_count": 7,
      "outputs": [
        {
          "output_type": "stream",
          "text": [
            "/usr/local/lib/python3.6/dist-packages/sklearn/model_selection/_split.py:1978: FutureWarning: The default value of cv will change from 3 to 5 in version 0.22. Specify it explicitly to silence this warning.\n",
            "  warnings.warn(CV_WARNING, FutureWarning)\n",
            "/usr/local/lib/python3.6/dist-packages/sklearn/linear_model/logistic.py:947: ConvergenceWarning: lbfgs failed to converge. Increase the number of iterations.\n",
            "  \"of iterations.\", ConvergenceWarning)\n",
            "/usr/local/lib/python3.6/dist-packages/sklearn/linear_model/logistic.py:947: ConvergenceWarning: lbfgs failed to converge. Increase the number of iterations.\n",
            "  \"of iterations.\", ConvergenceWarning)\n",
            "/usr/local/lib/python3.6/dist-packages/sklearn/linear_model/logistic.py:947: ConvergenceWarning: lbfgs failed to converge. Increase the number of iterations.\n",
            "  \"of iterations.\", ConvergenceWarning)\n",
            "/usr/local/lib/python3.6/dist-packages/sklearn/linear_model/logistic.py:947: ConvergenceWarning: lbfgs failed to converge. Increase the number of iterations.\n",
            "  \"of iterations.\", ConvergenceWarning)\n",
            "/usr/local/lib/python3.6/dist-packages/sklearn/linear_model/logistic.py:947: ConvergenceWarning: lbfgs failed to converge. Increase the number of iterations.\n",
            "  \"of iterations.\", ConvergenceWarning)\n",
            "/usr/local/lib/python3.6/dist-packages/sklearn/linear_model/logistic.py:947: ConvergenceWarning: lbfgs failed to converge. Increase the number of iterations.\n",
            "  \"of iterations.\", ConvergenceWarning)\n",
            "/usr/local/lib/python3.6/dist-packages/sklearn/linear_model/logistic.py:947: ConvergenceWarning: lbfgs failed to converge. Increase the number of iterations.\n",
            "  \"of iterations.\", ConvergenceWarning)\n",
            "/usr/local/lib/python3.6/dist-packages/sklearn/linear_model/logistic.py:947: ConvergenceWarning: lbfgs failed to converge. Increase the number of iterations.\n",
            "  \"of iterations.\", ConvergenceWarning)\n",
            "/usr/local/lib/python3.6/dist-packages/sklearn/linear_model/logistic.py:947: ConvergenceWarning: lbfgs failed to converge. Increase the number of iterations.\n",
            "  \"of iterations.\", ConvergenceWarning)\n",
            "/usr/local/lib/python3.6/dist-packages/sklearn/linear_model/logistic.py:947: ConvergenceWarning: lbfgs failed to converge. Increase the number of iterations.\n",
            "  \"of iterations.\", ConvergenceWarning)\n",
            "/usr/local/lib/python3.6/dist-packages/sklearn/linear_model/logistic.py:947: ConvergenceWarning: lbfgs failed to converge. Increase the number of iterations.\n",
            "  \"of iterations.\", ConvergenceWarning)\n",
            "/usr/local/lib/python3.6/dist-packages/sklearn/linear_model/logistic.py:947: ConvergenceWarning: lbfgs failed to converge. Increase the number of iterations.\n",
            "  \"of iterations.\", ConvergenceWarning)\n",
            "/usr/local/lib/python3.6/dist-packages/sklearn/linear_model/logistic.py:947: ConvergenceWarning: lbfgs failed to converge. Increase the number of iterations.\n",
            "  \"of iterations.\", ConvergenceWarning)\n",
            "/usr/local/lib/python3.6/dist-packages/sklearn/linear_model/logistic.py:947: ConvergenceWarning: lbfgs failed to converge. Increase the number of iterations.\n",
            "  \"of iterations.\", ConvergenceWarning)\n",
            "/usr/local/lib/python3.6/dist-packages/sklearn/linear_model/logistic.py:947: ConvergenceWarning: lbfgs failed to converge. Increase the number of iterations.\n",
            "  \"of iterations.\", ConvergenceWarning)\n",
            "/usr/local/lib/python3.6/dist-packages/sklearn/linear_model/logistic.py:947: ConvergenceWarning: lbfgs failed to converge. Increase the number of iterations.\n",
            "  \"of iterations.\", ConvergenceWarning)\n",
            "/usr/local/lib/python3.6/dist-packages/sklearn/linear_model/logistic.py:947: ConvergenceWarning: lbfgs failed to converge. Increase the number of iterations.\n",
            "  \"of iterations.\", ConvergenceWarning)\n",
            "/usr/local/lib/python3.6/dist-packages/sklearn/linear_model/logistic.py:947: ConvergenceWarning: lbfgs failed to converge. Increase the number of iterations.\n",
            "  \"of iterations.\", ConvergenceWarning)\n",
            "/usr/local/lib/python3.6/dist-packages/sklearn/linear_model/logistic.py:947: ConvergenceWarning: lbfgs failed to converge. Increase the number of iterations.\n",
            "  \"of iterations.\", ConvergenceWarning)\n",
            "/usr/local/lib/python3.6/dist-packages/sklearn/linear_model/logistic.py:947: ConvergenceWarning: lbfgs failed to converge. Increase the number of iterations.\n",
            "  \"of iterations.\", ConvergenceWarning)\n",
            "/usr/local/lib/python3.6/dist-packages/sklearn/linear_model/logistic.py:947: ConvergenceWarning: lbfgs failed to converge. Increase the number of iterations.\n",
            "  \"of iterations.\", ConvergenceWarning)\n",
            "/usr/local/lib/python3.6/dist-packages/sklearn/linear_model/logistic.py:947: ConvergenceWarning: lbfgs failed to converge. Increase the number of iterations.\n",
            "  \"of iterations.\", ConvergenceWarning)\n",
            "/usr/local/lib/python3.6/dist-packages/sklearn/linear_model/logistic.py:947: ConvergenceWarning: lbfgs failed to converge. Increase the number of iterations.\n",
            "  \"of iterations.\", ConvergenceWarning)\n",
            "/usr/local/lib/python3.6/dist-packages/sklearn/linear_model/logistic.py:947: ConvergenceWarning: lbfgs failed to converge. Increase the number of iterations.\n",
            "  \"of iterations.\", ConvergenceWarning)\n",
            "/usr/local/lib/python3.6/dist-packages/sklearn/linear_model/logistic.py:947: ConvergenceWarning: lbfgs failed to converge. Increase the number of iterations.\n",
            "  \"of iterations.\", ConvergenceWarning)\n"
          ],
          "name": "stderr"
        }
      ]
    },
    {
      "cell_type": "code",
      "metadata": {
        "id": "OSzdH3Biue_b",
        "colab_type": "code",
        "colab": {
          "base_uri": "https://localhost:8080/",
          "height": 119
        },
        "outputId": "ed956bc6-f326-4fda-8a54-15e792d56ff8"
      },
      "source": [
        "f1_train, acc_train = result(x_train, Y_train)\n",
        "f1_val, acc_val = result(x_val, Y_val) \n",
        "f1_test, acc_test = result(x_test, Y_test)\n",
        "\n",
        "print(\"F1-score on train set: {}\".format(f1_train))\n",
        "print(\"Accuracy score on train set: {}\".format(acc_train))\n",
        "\n",
        "print(\"F1-score on validation set: {}\".format(f1_val))\n",
        "print(\"Accuracy score on validation set: {}\".format(acc_val))\n",
        "\n",
        "print(\"F1-score on test set: {}\".format(f1_test))\n",
        "print(\"Accuracy score on test set: {}\".format(acc_test))"
      ],
      "execution_count": 9,
      "outputs": [
        {
          "output_type": "stream",
          "text": [
            "F1-score on train set: 0.6148441738778587\n",
            "Accuracy score on train set: 0.9599166233609628\n",
            "F1-score on validation set: 0.5556803714521081\n",
            "Accuracy score on validation set: 0.954575731359053\n",
            "F1-score on test set: 0.554968287526427\n",
            "Accuracy score on test set: 0.9548739778887085\n"
          ],
          "name": "stdout"
        }
      ]
    },
    {
      "cell_type": "markdown",
      "metadata": {
        "id": "PoBw1akSwCdI",
        "colab_type": "text"
      },
      "source": [
        "##BiLSTM"
      ]
    },
    {
      "cell_type": "markdown",
      "metadata": {
        "id": "_u_iJiYmqxsB",
        "colab_type": "text"
      },
      "source": [
        "###Preprocessing question"
      ]
    },
    {
      "cell_type": "code",
      "metadata": {
        "id": "AgHd_I1hp4WD",
        "colab_type": "code",
        "colab": {}
      },
      "source": [
        "max_features = 100000\n",
        "max_len = 70\n",
        "embedding_dim = 300"
      ],
      "execution_count": 0,
      "outputs": []
    },
    {
      "cell_type": "code",
      "metadata": {
        "id": "vXBaxerwq7Ic",
        "colab_type": "code",
        "colab": {}
      },
      "source": [
        "def preprocessing(data, get_word_index = False):\n",
        "    data = list(data['question_text'].values)\n",
        "    tokenizer = Tokenizer(num_words=max_features, filters='!\"#$%&()*+,-./:;<=>?@[\\\\]^_`{|}~\\t\\n', split=' ')\n",
        "    tokenizer.fit_on_texts(data)\n",
        "    sequence = tokenizer.texts_to_sequences(data)\n",
        "    if get_word_index:\n",
        "        return tokenizer.word_index\n",
        "    else:\n",
        "        return pad_sequences(sequence, maxlen=max_len)"
      ],
      "execution_count": 0,
      "outputs": []
    },
    {
      "cell_type": "markdown",
      "metadata": {
        "id": "J3RxFcSpCjj6",
        "colab_type": "text"
      },
      "source": [
        "###Embedding"
      ]
    },
    {
      "cell_type": "code",
      "metadata": {
        "id": "SiAIHAEpCmpZ",
        "colab_type": "code",
        "colab": {}
      },
      "source": [
        "def get_word_index(data):\n",
        "    data = list(data['question_text'].values)\n",
        "    tokenizer = Tokenizer(num_words=max_features, filters='!\"#$%&()*+,-./:;<=>?@[\\\\]^_`{|}~\\t\\n', split=' ')\n",
        "    tokenizer.fit_on_texts(data)\n",
        "    sequence = tokenizer.texts_to_sequences(data)\n",
        "    return pad_sequences(sequence, maxlen=max_len), tokenizer.word_index\n",
        "\n",
        "def load_glove(word_index):\n",
        "    embeddings_index = {}\n",
        "    with open('glove.6B.300d.txt', encoding='utf8') as f:\n",
        "        for line in tqdm(f):\n",
        "            values = line.split()\n",
        "            word = values[0]\n",
        "            coefs = np.asarray(values[1:],dtype='float32')\n",
        "            embeddings_index[word] = coefs\n",
        "\n",
        "    all_embs = np.stack(embeddings_index.values())\n",
        "    emb_mean,emb_std = all_embs.mean(), all_embs.std()\n",
        "    embed_size = all_embs.shape[1]\n",
        "\n",
        "    nb_words = min(max_features, len(word_index))\n",
        "    embedding_matrix = np.random.normal(emb_mean, emb_std, (nb_words, embed_size))\n",
        "    for word, i in word_index.items():\n",
        "        if i >= max_features: continue\n",
        "        embedding_vector = embeddings_index.get(word)\n",
        "        if embedding_vector is not None: embedding_matrix[i] = embedding_vector\n",
        "            \n",
        "    return embedding_matrix\n",
        "\n",
        "def load_fast_text(word_index):\n",
        "    embeddings_index = {}\n",
        "    with open('wiki-news-300d-1M.vec', encoding='utf8') as f:\n",
        "        for line in tqdm(f):\n",
        "            values = line.split()\n",
        "            word = values[0]\n",
        "            coefs = np.asarray(values[1:],dtype='float32')\n",
        "            embeddings_index[word] = coefs\n",
        "\n",
        "    all_embs = np.stack(embeddings_index.values())\n",
        "    emb_mean,emb_std = all_embs.mean(), all_embs.std()\n",
        "    embed_size = len(embeddings_index)\n",
        "\n",
        "    nb_words = min(max_features, len(word_index))\n",
        "    embedding_matrix = np.random.random((nb_words, embed_size))\n",
        "    for word, i in word_index.items():\n",
        "        if i >= max_features: continue\n",
        "        embedding_vector = embeddings_index.get(word)\n",
        "        if embedding_vector is not None: embedding_matrix[i] = embedding_vector\n",
        "            \n",
        "    return embedding_matrix"
      ],
      "execution_count": 0,
      "outputs": []
    },
    {
      "cell_type": "code",
      "metadata": {
        "id": "QB00MyQVCuSB",
        "colab_type": "code",
        "outputId": "0bb9884a-efe2-4bf7-f015-00d40a0543d7",
        "colab": {
          "base_uri": "https://localhost:8080/",
          "height": 71
        }
      },
      "source": [
        "pad, word_index = get_word_index(train)\n",
        "embedding_matrix = load_glove(word_index)\n",
        "\n",
        "X_train, X_test, Y_train, Y_test = train_test_split(pad, train['target'], test_size = 0.2, random_state = 5)\n",
        "X_train, X_val, Y_train, Y_val = train_test_split(X_train, Y_train, test_size = 0.2, random_state = 15)"
      ],
      "execution_count": 0,
      "outputs": [
        {
          "output_type": "stream",
          "text": [
            "400000it [00:26, 14844.05it/s]\n",
            "/usr/local/lib/python3.6/dist-packages/ipykernel_launcher.py:17: FutureWarning: arrays to stack must be passed as a \"sequence\" type such as list or tuple. Support for non-sequence iterables such as generators is deprecated as of NumPy 1.16 and will raise an error in the future.\n"
          ],
          "name": "stderr"
        }
      ]
    },
    {
      "cell_type": "markdown",
      "metadata": {
        "id": "on666lCJCSKs",
        "colab_type": "text"
      },
      "source": [
        "###Training"
      ]
    },
    {
      "cell_type": "code",
      "metadata": {
        "id": "gMC9gCYCCYee",
        "colab_type": "code",
        "outputId": "7b9e0717-182d-46cb-dc13-858c7d244abe",
        "colab": {
          "base_uri": "https://localhost:8080/",
          "height": 360
        }
      },
      "source": [
        "inp = Input(shape=(max_len,))\n",
        "outp = Embedding(max_features, embedding_dim, weights=[embedding_matrix], trainable=False)(inp)\n",
        "outp = Bidirectional(CuDNNLSTM(128, return_sequences=True))(outp)\n",
        "outp = Bidirectional(CuDNNLSTM(64, return_sequences=True, ))(outp)\n",
        "outp = Bidirectional(CuDNNLSTM(32, return_sequences=True))(outp)\n",
        "outp = Dropout(0.2)(outp)\n",
        "outp = Flatten()(outp)\n",
        "outp = Dense(512, activation=\"relu\")(outp)\n",
        "outp = Dropout(0.2)(outp)\n",
        "outp = Dense(1, activation=\"sigmoid\")(outp)\n",
        "model = Model(inputs=inp, outputs=outp)\n",
        "model.compile(loss='binary_crossentropy', optimizer='adam', metrics=['accuracy'])"
      ],
      "execution_count": 0,
      "outputs": [
        {
          "output_type": "stream",
          "text": [
            "WARNING: Logging before flag parsing goes to stderr.\n",
            "W0708 13:09:55.907890 139941577848704 deprecation.py:506] From /usr/local/lib/python3.6/dist-packages/tensorflow/python/keras/initializers.py:119: calling RandomUniform.__init__ (from tensorflow.python.ops.init_ops) with dtype is deprecated and will be removed in a future version.\n",
            "Instructions for updating:\n",
            "Call initializer instance with the dtype argument instead of passing it to the constructor\n",
            "W0708 13:09:59.104992 139941577848704 deprecation.py:506] From /usr/local/lib/python3.6/dist-packages/tensorflow/python/ops/init_ops.py:1251: calling VarianceScaling.__init__ (from tensorflow.python.ops.init_ops) with dtype is deprecated and will be removed in a future version.\n",
            "Instructions for updating:\n",
            "Call initializer instance with the dtype argument instead of passing it to the constructor\n",
            "W0708 13:09:59.115859 139941577848704 deprecation.py:506] From /usr/local/lib/python3.6/dist-packages/tensorflow/python/ops/init_ops.py:97: calling GlorotUniform.__init__ (from tensorflow.python.ops.init_ops) with dtype is deprecated and will be removed in a future version.\n",
            "Instructions for updating:\n",
            "Call initializer instance with the dtype argument instead of passing it to the constructor\n",
            "W0708 13:09:59.122296 139941577848704 deprecation.py:506] From /usr/local/lib/python3.6/dist-packages/tensorflow/python/ops/init_ops.py:97: calling Orthogonal.__init__ (from tensorflow.python.ops.init_ops) with dtype is deprecated and will be removed in a future version.\n",
            "Instructions for updating:\n",
            "Call initializer instance with the dtype argument instead of passing it to the constructor\n",
            "W0708 13:09:59.123188 139941577848704 deprecation.py:506] From /usr/local/lib/python3.6/dist-packages/tensorflow/python/ops/init_ops.py:97: calling Zeros.__init__ (from tensorflow.python.ops.init_ops) with dtype is deprecated and will be removed in a future version.\n",
            "Instructions for updating:\n",
            "Call initializer instance with the dtype argument instead of passing it to the constructor\n",
            "W0708 13:10:00.788780 139941577848704 deprecation.py:323] From /usr/local/lib/python3.6/dist-packages/tensorflow/python/ops/nn_impl.py:180: add_dispatch_support.<locals>.wrapper (from tensorflow.python.ops.array_ops) is deprecated and will be removed in a future version.\n",
            "Instructions for updating:\n",
            "Use tf.where in 2.0, which has the same broadcast rule as np.where\n"
          ],
          "name": "stderr"
        }
      ]
    },
    {
      "cell_type": "code",
      "metadata": {
        "id": "-JmISSrnDCRp",
        "colab_type": "code",
        "outputId": "e38d53e5-06b8-4f58-e5bc-b4cd5719a6a3",
        "colab": {
          "base_uri": "https://localhost:8080/",
          "height": 493
        }
      },
      "source": [
        "model.summary()"
      ],
      "execution_count": 0,
      "outputs": [
        {
          "output_type": "stream",
          "text": [
            "Model: \"model\"\n",
            "_________________________________________________________________\n",
            "Layer (type)                 Output Shape              Param #   \n",
            "=================================================================\n",
            "input_1 (InputLayer)         [(None, 70)]              0         \n",
            "_________________________________________________________________\n",
            "embedding (Embedding)        (None, 70, 300)           30000000  \n",
            "_________________________________________________________________\n",
            "bidirectional (Bidirectional (None, 70, 256)           440320    \n",
            "_________________________________________________________________\n",
            "bidirectional_1 (Bidirection (None, 70, 128)           164864    \n",
            "_________________________________________________________________\n",
            "bidirectional_2 (Bidirection (None, 70, 64)            41472     \n",
            "_________________________________________________________________\n",
            "dropout (Dropout)            (None, 70, 64)            0         \n",
            "_________________________________________________________________\n",
            "flatten (Flatten)            (None, 4480)              0         \n",
            "_________________________________________________________________\n",
            "dense (Dense)                (None, 512)               2294272   \n",
            "_________________________________________________________________\n",
            "dropout_1 (Dropout)          (None, 512)               0         \n",
            "_________________________________________________________________\n",
            "dense_1 (Dense)              (None, 1)                 513       \n",
            "=================================================================\n",
            "Total params: 32,941,441\n",
            "Trainable params: 2,941,441\n",
            "Non-trainable params: 30,000,000\n",
            "_________________________________________________________________\n"
          ],
          "name": "stdout"
        }
      ]
    },
    {
      "cell_type": "code",
      "metadata": {
        "id": "I96laqd3DIbZ",
        "colab_type": "code",
        "outputId": "edd79e26-50dd-4500-fced-dfe2a870042d",
        "colab": {
          "base_uri": "https://localhost:8080/",
          "height": 527
        }
      },
      "source": [
        "for i in range(10):\n",
        "    model.fit(X_train, Y_train, \n",
        "              epochs = 1, \n",
        "              batch_size=512, \n",
        "              validation_data=(X_val, Y_val), \n",
        "              shuffle=True,\n",
        "              callbacks=[ModelCheckpoint('/result.h5',save_best_only=True),\n",
        "                         EarlyStopping()])\n",
        "    pred_val_y = model.predict([X_val], batch_size=1024, verbose=0)\n",
        "    \n",
        "    best_thresh = 0.5\n",
        "    best_score = 0.0\n",
        "    for thresh in np.arange(0.1, 0.501, 0.01):\n",
        "        thresh = np.round(thresh, 2)\n",
        "        score = metrics.f1_score(Y_val, (pred_val_y > thresh).astype(int))\n",
        "        if score > best_score:\n",
        "            best_thresh = thresh\n",
        "            best_score = score\n",
        "\n",
        "    print(\"Val F1 Score: {:.4f}, Best Threshold: {:.4f}\".format(best_score, best_thresh))"
      ],
      "execution_count": 0,
      "outputs": [
        {
          "output_type": "stream",
          "text": [
            "Train on 835917 samples, validate on 208980 samples\n",
            "835917/835917 [==============================] - 148s 177us/sample - loss: 0.1309 - acc: 0.9502 - val_loss: 0.1156 - val_acc: 0.9548\n",
            "Val F1 Score: 0.6181, Best Threshold: 0.3000\n",
            "Train on 835917 samples, validate on 208980 samples\n",
            "835917/835917 [==============================] - 146s 175us/sample - loss: 0.1099 - acc: 0.9569 - val_loss: 0.1090 - val_acc: 0.9570\n",
            "Val F1 Score: 0.6419, Best Threshold: 0.3300\n",
            "Train on 835917 samples, validate on 208980 samples\n",
            "835917/835917 [==============================] - 146s 175us/sample - loss: 0.1029 - acc: 0.9595 - val_loss: 0.1053 - val_acc: 0.9581\n",
            "Val F1 Score: 0.6564, Best Threshold: 0.3400\n",
            "Train on 835917 samples, validate on 208980 samples\n",
            "835917/835917 [==============================] - 146s 175us/sample - loss: 0.0969 - acc: 0.9614 - val_loss: 0.1053 - val_acc: 0.9585\n",
            "Val F1 Score: 0.6595, Best Threshold: 0.3400\n",
            "Train on 835917 samples, validate on 208980 samples\n",
            "835917/835917 [==============================] - 147s 176us/sample - loss: 0.0899 - acc: 0.9640 - val_loss: 0.1075 - val_acc: 0.9583\n",
            "Val F1 Score: 0.6585, Best Threshold: 0.3000\n",
            "Train on 835917 samples, validate on 208980 samples\n",
            "835917/835917 [==============================] - 146s 175us/sample - loss: 0.0818 - acc: 0.9670 - val_loss: 0.1107 - val_acc: 0.9575\n",
            "Val F1 Score: 0.6552, Best Threshold: 0.2600\n",
            "Train on 835917 samples, validate on 208980 samples\n",
            "835917/835917 [==============================] - 146s 175us/sample - loss: 0.0723 - acc: 0.9708 - val_loss: 0.1138 - val_acc: 0.9566\n",
            "Val F1 Score: 0.6521, Best Threshold: 0.3100\n",
            "Train on 835917 samples, validate on 208980 samples\n",
            "835917/835917 [==============================] - 146s 175us/sample - loss: 0.0625 - acc: 0.9750 - val_loss: 0.1300 - val_acc: 0.9557\n",
            "Val F1 Score: 0.6466, Best Threshold: 0.2800\n",
            "Train on 835917 samples, validate on 208980 samples\n",
            "835917/835917 [==============================] - 147s 175us/sample - loss: 0.0529 - acc: 0.9787 - val_loss: 0.1484 - val_acc: 0.9541\n",
            "Val F1 Score: 0.6359, Best Threshold: 0.3000\n",
            "Train on 835917 samples, validate on 208980 samples\n",
            "835917/835917 [==============================] - 147s 176us/sample - loss: 0.0442 - acc: 0.9824 - val_loss: 0.1786 - val_acc: 0.9546\n",
            "Val F1 Score: 0.6276, Best Threshold: 0.1700\n"
          ],
          "name": "stdout"
        }
      ]
    },
    {
      "cell_type": "code",
      "metadata": {
        "id": "J5AzkOx2Hd2J",
        "colab_type": "code",
        "colab": {}
      },
      "source": [
        "pred_val_y = model.predict([X_test], batch_size=1024, verbose=0)\n",
        "\n",
        "best_thresh = 0.5\n",
        "best_score = 0.0\n",
        "for thresh in np.arange(0.1, 0.501, 0.01):\n",
        "    thresh = np.round(thresh, 2)\n",
        "    score = metrics.f1_score(Y_test, (pred_val_y > thresh).astype(int))\n",
        "    if score > best_score:\n",
        "        best_thresh = thresh\n",
        "        best_score = score\n",
        "\n",
        "print(\"Val Accuracy Score: {:.4f}, Best Threshold: {:.4f}\".format(best_score, best_thresh))"
      ],
      "execution_count": 0,
      "outputs": []
    },
    {
      "cell_type": "code",
      "metadata": {
        "id": "5QqMvMAcZM3k",
        "colab_type": "code",
        "colab": {}
      },
      "source": [
        ""
      ],
      "execution_count": 0,
      "outputs": []
    }
  ]
}